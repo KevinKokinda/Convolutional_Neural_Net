{
  "nbformat": 4,
  "nbformat_minor": 0,
  "metadata": {
    "colab": {
      "provenance": [],
      "gpuType": "T4",
      "authorship_tag": "ABX9TyMt4tOC8B5n9jtmWfe2ql71",
      "include_colab_link": true
    },
    "kernelspec": {
      "name": "python3",
      "display_name": "Python 3"
    },
    "language_info": {
      "name": "python"
    },
    "accelerator": "GPU"
  },
  "cells": [
    {
      "cell_type": "markdown",
      "metadata": {
        "id": "view-in-github",
        "colab_type": "text"
      },
      "source": [
        "<a href=\"https://colab.research.google.com/github/KevinKokinda/Convolutional_Neural_Net/blob/main/Cifar_Network.ipynb\" target=\"_parent\"><img src=\"https://colab.research.google.com/assets/colab-badge.svg\" alt=\"Open In Colab\"/></a>"
      ]
    },
    {
      "cell_type": "code",
      "execution_count": null,
      "metadata": {
        "id": "nWVAH7Wu7XOS"
      },
      "outputs": [],
      "source": [
        "import tensorflow as tf\n",
        "from tensorflow import keras\n",
        "from tensorflow.keras.datasets import cifar10\n",
        "from tensorflow.keras.preprocessing.image import ImageDataGenerator\n",
        "import numpy as np\n",
        "import matplotlib.pyplot as plt"
      ]
    },
    {
      "cell_type": "code",
      "source": [
        "img_rows = 32\n",
        "img_cols = 32\n",
        "num_classes = 10\n",
        "input_shape = (img_rows, img_cols, 3)\n",
        "epochs = 200\n",
        "batch_size = 64"
      ],
      "metadata": {
        "id": "zyVtHJLTdO9u"
      },
      "execution_count": null,
      "outputs": []
    },
    {
      "cell_type": "code",
      "source": [
        "(train_images, train_labels), (test_images, test_labels) = cifar10.load_data()"
      ],
      "metadata": {
        "id": "2ESUDV1EdPBO",
        "colab": {
          "base_uri": "https://localhost:8080/"
        },
        "outputId": "b57593a9-4884-4cad-ec4f-2bc468dac204"
      },
      "execution_count": null,
      "outputs": [
        {
          "output_type": "stream",
          "name": "stdout",
          "text": [
            "Downloading data from https://www.cs.toronto.edu/~kriz/cifar-10-python.tar.gz\n",
            "170498071/170498071 [==============================] - 2s 0us/step\n"
          ]
        }
      ]
    },
    {
      "cell_type": "code",
      "source": [
        "train_images = train_images.astype('float32') / 255\n",
        "test_images = test_images.astype('float32') / 255"
      ],
      "metadata": {
        "id": "aDoGaR2CdPEc"
      },
      "execution_count": null,
      "outputs": []
    },
    {
      "cell_type": "code",
      "source": [
        "train_labels = keras.utils.to_categorical(train_labels, num_classes)\n",
        "test_labels = keras.utils.to_categorical(test_labels, num_classes)"
      ],
      "metadata": {
        "id": "9bJhrWuPdVnC"
      },
      "execution_count": null,
      "outputs": []
    },
    {
      "cell_type": "code",
      "source": [
        "datagen = ImageDataGenerator(\n",
        "    rotation_range=15,\n",
        "    width_shift_range=0.1,\n",
        "    height_shift_range=0.1,\n",
        "    horizontal_flip=True,\n",
        ")\n",
        "datagen.fit(train_images)"
      ],
      "metadata": {
        "id": "8ek_aAmOdVqU"
      },
      "execution_count": null,
      "outputs": []
    },
    {
      "cell_type": "code",
      "source": [
        "model = keras.models.Sequential([\n",
        "    keras.layers.Conv2D(32, (3, 3), padding='same', activation='relu', input_shape=input_shape),\n",
        "    keras.layers.BatchNormalization(),\n",
        "    keras.layers.Conv2D(32, (3, 3), padding='same', activation='relu'),\n",
        "    keras.layers.BatchNormalization(),\n",
        "    keras.layers.MaxPooling2D((2, 2)),\n",
        "    keras.layers.Dropout(0.2),\n",
        "\n",
        "    keras.layers.Conv2D(64, (3, 3), padding='same', activation='relu'),\n",
        "    keras.layers.BatchNormalization(),\n",
        "    keras.layers.Conv2D(64, (3, 3), padding='same', activation='relu'),\n",
        "    keras.layers.BatchNormalization(),\n",
        "    keras.layers.MaxPooling2D((2, 2)),\n",
        "    keras.layers.Dropout(0.3),\n",
        "\n",
        "    keras.layers.Conv2D(128, (3, 3), padding='same', activation='relu'),\n",
        "    keras.layers.BatchNormalization(),\n",
        "    keras.layers.Conv2D(128, (3, 3), padding='same', activation='relu'),\n",
        "    keras.layers.BatchNormalization(),\n",
        "    keras.layers.MaxPooling2D((2, 2)),\n",
        "    keras.layers.Dropout(0.4),\n",
        "\n",
        "    keras.layers.Flatten(),\n",
        "    keras.layers.Dense(num_classes, activation='softmax'),\n",
        "])"
      ],
      "metadata": {
        "id": "QaZZnKe7dVyr"
      },
      "execution_count": null,
      "outputs": []
    },
    {
      "cell_type": "code",
      "source": [
        "model.compile(\n",
        "    loss=keras.losses.categorical_crossentropy,\n",
        "    optimizer='adam',\n",
        "    metrics=['accuracy'],\n",
        ")\n"
      ],
      "metadata": {
        "id": "ihfBfjltdV2V"
      },
      "execution_count": null,
      "outputs": []
    },
    {
      "cell_type": "code",
      "source": [
        "early_stopping = tf.keras.callbacks.EarlyStopping(patience=10, restore_best_weights=True)\n",
        "history = model.fit(datagen.flow(train_images, train_labels, batch_size=batch_size),\n",
        "                    steps_per_epoch=len(train_images) / batch_size,\n",
        "                    epochs=epochs,\n",
        "                    validation_data=(test_images, test_labels),\n",
        "                    callbacks=[early_stopping])"
      ],
      "metadata": {
        "colab": {
          "base_uri": "https://localhost:8080/"
        },
        "id": "meusk2y_dbZN",
        "outputId": "c6f90cae-5e6b-4fa8-aabc-04459ee2b95c"
      },
      "execution_count": null,
      "outputs": [
        {
          "output_type": "stream",
          "name": "stdout",
          "text": [
            "Epoch 1/5\n",
            "781/781 [==============================] - 49s 43ms/step - loss: 1.9507 - accuracy: 0.3990 - val_loss: 1.6343 - val_accuracy: 0.4579\n",
            "Epoch 2/5\n",
            "781/781 [==============================] - 35s 45ms/step - loss: 1.3793 - accuracy: 0.5540 - val_loss: 1.2274 - val_accuracy: 0.6264\n",
            "Epoch 3/5\n",
            "781/781 [==============================] - 33s 42ms/step - loss: 1.1315 - accuracy: 0.6257 - val_loss: 1.1719 - val_accuracy: 0.6392\n",
            "Epoch 4/5\n",
            "781/781 [==============================] - 32s 41ms/step - loss: 0.9570 - accuracy: 0.6704 - val_loss: 0.8209 - val_accuracy: 0.7243\n",
            "Epoch 5/5\n",
            "781/781 [==============================] - 33s 43ms/step - loss: 0.8641 - accuracy: 0.7000 - val_loss: 1.1084 - val_accuracy: 0.6581\n"
          ]
        }
      ]
    },
    {
      "cell_type": "code",
      "source": [
        "scores = model.evaluate(test_images, test_labels, verbose=0)\n",
        "print('Test accuracy:', scores[1])\n"
      ],
      "metadata": {
        "id": "DvlBd4AodbcZ",
        "colab": {
          "base_uri": "https://localhost:8080/"
        },
        "outputId": "09930204-dae5-4f99-8ced-52d08e0b734b"
      },
      "execution_count": null,
      "outputs": [
        {
          "output_type": "stream",
          "name": "stdout",
          "text": [
            "Test accuracy: 0.6581000089645386\n"
          ]
        }
      ]
    }
  ]
}